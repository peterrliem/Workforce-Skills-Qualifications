{
 "cells": [
  {
   "cell_type": "code",
   "execution_count": 1,
   "metadata": {},
   "outputs": [
    {
     "data": {
      "text/plain": [
       "Index(['Variables', '2011', '2012', '2013', '2014', '2015', '2016', '2017'], dtype='object')"
      ]
     },
     "execution_count": 1,
     "metadata": {},
     "output_type": "execute_result"
    }
   ],
   "source": [
    "import pandas as pd\n",
    "\n",
    "file = pd.ExcelFile(\"wsq_participants.xlsx\")\n",
    "\n",
    "df1 = pd.read_excel (file, 'T1')\n",
    "\n",
    "df1.columns\n"
   ]
  },
  {
   "cell_type": "code",
   "execution_count": 2,
   "metadata": {},
   "outputs": [
    {
     "name": "stdout",
     "output_type": "stream",
     "text": [
      "                                            Variables     2011     2012  \\\n",
      "0                                               Total  192,249  198,322   \n",
      "1                                 Age Group: Below 20   10,860   11,575   \n",
      "2                                  Age Group: 20 - 29   37,056   40,260   \n",
      "3                                  Age Group: 30 - 39   44,643   46,722   \n",
      "4                                  Age Group: 40 - 49   44,489   43,950   \n",
      "5                                  Age Group: 50 - 59   38,461   37,916   \n",
      "6                                  Age Group: 60 - 69   13,560   14,812   \n",
      "7                                Age Group: 70 & Over    3,180    3,087   \n",
      "8       Highest Qualification Attained: Below Primary    5,695    5,531   \n",
      "9             Highest Qualification Attained: Primary   28,343   28,516   \n",
      "10    Highest Qualification Attained: Lower Secondary   27,824   22,120   \n",
      "11          Highest Qualification Attained: Secondary   54,012   55,977   \n",
      "12     Highest Qualification Attained: Post-Secondary   12,663   17,318   \n",
      "13  Highest Qualification Attained: Professional A...    8,624    9,620   \n",
      "14  Highest Qualification Attained: Polytechnic Di...   17,224   19,790   \n",
      "15   Highest Qualification Attained: Degree And Above   23,926   27,144   \n",
      "16  Highest Qualification Attained: Others / Not R...   13,938   12,306   \n",
      "17                                        Sex: Female   98,582  101,438   \n",
      "18                                          Sex: Male   90,364   95,154   \n",
      "19                                  Sex: Not Reported    3,303    1,730   \n",
      "\n",
      "       2013     2014     2015     2016     2017  \n",
      "0   231,009  267,423  267,655  289,699  310,491  \n",
      "1    13,641   14,221   16,016   13,515   18,597  \n",
      "2    45,947   52,170   54,876   56,649   65,219  \n",
      "3    52,223   56,622   56,326   57,849   56,487  \n",
      "4    50,793   56,065   53,375   58,179   58,635  \n",
      "5    45,233   54,096   50,673   56,543   58,822  \n",
      "6    18,990   27,614   29,108   36,787   40,638  \n",
      "7     4,182    6,635    7,281   10,177   12,093  \n",
      "8     8,863   12,074   16,136   16,454   16,993  \n",
      "9    26,391   33,538   25,031   25,732   24,546  \n",
      "10   26,606   30,313   27,975   31,491   34,274  \n",
      "11   60,134   64,020   60,786   64,041   67,141  \n",
      "12   20,601   21,856   25,276   27,755   32,080  \n",
      "13   10,744   14,030   11,839   14,634   15,057  \n",
      "14   24,144   26,612   31,610   32,133   41,764  \n",
      "15   34,032   45,011   48,395   56,295   57,893  \n",
      "16   19,494   19,969   20,607   21,164   20,743  \n",
      "17  109,391  120,818  122,291  133,816  134,715  \n",
      "18  119,170  144,166  143,142  153,730  173,394  \n",
      "19    2,448    2,439    2,222    2,153    2,382  \n"
     ]
    }
   ],
   "source": [
    "print(df1)"
   ]
  },
  {
   "cell_type": "code",
   "execution_count": 3,
   "metadata": {},
   "outputs": [
    {
     "name": "stdout",
     "output_type": "stream",
     "text": [
      "                                            Variables    2011    2012    2013  \\\n",
      "8       Highest Qualification Attained: Below Primary   5,695   5,531   8,863   \n",
      "9             Highest Qualification Attained: Primary  28,343  28,516  26,391   \n",
      "10    Highest Qualification Attained: Lower Secondary  27,824  22,120  26,606   \n",
      "11          Highest Qualification Attained: Secondary  54,012  55,977  60,134   \n",
      "12     Highest Qualification Attained: Post-Secondary  12,663  17,318  20,601   \n",
      "13  Highest Qualification Attained: Professional A...   8,624   9,620  10,744   \n",
      "14  Highest Qualification Attained: Polytechnic Di...  17,224  19,790  24,144   \n",
      "15   Highest Qualification Attained: Degree And Above  23,926  27,144  34,032   \n",
      "\n",
      "      2014    2015    2016    2017  \n",
      "8   12,074  16,136  16,454  16,993  \n",
      "9   33,538  25,031  25,732  24,546  \n",
      "10  30,313  27,975  31,491  34,274  \n",
      "11  64,020  60,786  64,041  67,141  \n",
      "12  21,856  25,276  27,755  32,080  \n",
      "13  14,030  11,839  14,634  15,057  \n",
      "14  26,612  31,610  32,133  41,764  \n",
      "15  45,011  48,395  56,295  57,893  \n"
     ]
    }
   ],
   "source": [
    "df1 = pd.DataFrame(df1)\n",
    "file_condensed = df1[8:16]\n",
    "\n",
    "print(file_condensed)"
   ]
  },
  {
   "cell_type": "code",
   "execution_count": 4,
   "metadata": {},
   "outputs": [
    {
     "name": "stdout",
     "output_type": "stream",
     "text": [
      "<class 'pandas.core.frame.DataFrame'>\n",
      "RangeIndex: 8 entries, 8 to 15\n",
      "Data columns (total 8 columns):\n",
      "Variables    8 non-null object\n",
      "2011         8 non-null object\n",
      "2012         8 non-null object\n",
      "2013         8 non-null object\n",
      "2014         8 non-null object\n",
      "2015         8 non-null object\n",
      "2016         8 non-null object\n",
      "2017         8 non-null object\n",
      "dtypes: object(8)\n",
      "memory usage: 596.0+ bytes\n"
     ]
    }
   ],
   "source": [
    "file_condensed.info()"
   ]
  },
  {
   "cell_type": "code",
   "execution_count": 4,
   "metadata": {},
   "outputs": [
    {
     "name": "stderr",
     "output_type": "stream",
     "text": [
      "/Users/Liem/anaconda3/lib/python3.7/site-packages/ipykernel_launcher.py:3: SettingWithCopyWarning: \n",
      "A value is trying to be set on a copy of a slice from a DataFrame.\n",
      "Try using .loc[row_indexer,col_indexer] = value instead\n",
      "\n",
      "See the caveats in the documentation: http://pandas.pydata.org/pandas-docs/stable/indexing.html#indexing-view-versus-copy\n",
      "  This is separate from the ipykernel package so we can avoid doing imports until\n"
     ]
    }
   ],
   "source": [
    "# https://stackoverflow.com/questions/50863691/pandas-convert-date-object-to-int\n",
    "\n",
    "file_condensed['2011'] = file_condensed['2011'].str.replace(\",\",\"\").astype(int)"
   ]
  },
  {
   "cell_type": "code",
   "execution_count": 5,
   "metadata": {},
   "outputs": [
    {
     "name": "stderr",
     "output_type": "stream",
     "text": [
      "/Users/Liem/anaconda3/lib/python3.7/site-packages/ipykernel_launcher.py:1: SettingWithCopyWarning: \n",
      "A value is trying to be set on a copy of a slice from a DataFrame.\n",
      "Try using .loc[row_indexer,col_indexer] = value instead\n",
      "\n",
      "See the caveats in the documentation: http://pandas.pydata.org/pandas-docs/stable/indexing.html#indexing-view-versus-copy\n",
      "  \"\"\"Entry point for launching an IPython kernel.\n"
     ]
    }
   ],
   "source": [
    "file_condensed ['2012'] = file_condensed['2012'].str.replace(\",\",\"\").astype(int)"
   ]
  },
  {
   "cell_type": "code",
   "execution_count": 6,
   "metadata": {},
   "outputs": [
    {
     "name": "stderr",
     "output_type": "stream",
     "text": [
      "/Users/Liem/anaconda3/lib/python3.7/site-packages/ipykernel_launcher.py:1: SettingWithCopyWarning: \n",
      "A value is trying to be set on a copy of a slice from a DataFrame.\n",
      "Try using .loc[row_indexer,col_indexer] = value instead\n",
      "\n",
      "See the caveats in the documentation: http://pandas.pydata.org/pandas-docs/stable/indexing.html#indexing-view-versus-copy\n",
      "  \"\"\"Entry point for launching an IPython kernel.\n"
     ]
    }
   ],
   "source": [
    "file_condensed['2013'] = file_condensed['2013'].str.replace(\",\",\"\").astype(int)"
   ]
  },
  {
   "cell_type": "code",
   "execution_count": 7,
   "metadata": {},
   "outputs": [
    {
     "name": "stderr",
     "output_type": "stream",
     "text": [
      "/Users/Liem/anaconda3/lib/python3.7/site-packages/ipykernel_launcher.py:1: SettingWithCopyWarning: \n",
      "A value is trying to be set on a copy of a slice from a DataFrame.\n",
      "Try using .loc[row_indexer,col_indexer] = value instead\n",
      "\n",
      "See the caveats in the documentation: http://pandas.pydata.org/pandas-docs/stable/indexing.html#indexing-view-versus-copy\n",
      "  \"\"\"Entry point for launching an IPython kernel.\n"
     ]
    }
   ],
   "source": [
    "file_condensed['2014'] = file_condensed['2014'].str.replace(\",\",\"\").astype(int)"
   ]
  },
  {
   "cell_type": "code",
   "execution_count": 8,
   "metadata": {},
   "outputs": [
    {
     "name": "stderr",
     "output_type": "stream",
     "text": [
      "/Users/Liem/anaconda3/lib/python3.7/site-packages/ipykernel_launcher.py:1: SettingWithCopyWarning: \n",
      "A value is trying to be set on a copy of a slice from a DataFrame.\n",
      "Try using .loc[row_indexer,col_indexer] = value instead\n",
      "\n",
      "See the caveats in the documentation: http://pandas.pydata.org/pandas-docs/stable/indexing.html#indexing-view-versus-copy\n",
      "  \"\"\"Entry point for launching an IPython kernel.\n"
     ]
    }
   ],
   "source": [
    "file_condensed['2015'] = file_condensed['2015'].str.replace(\",\",\"\").astype(int)"
   ]
  },
  {
   "cell_type": "code",
   "execution_count": 9,
   "metadata": {},
   "outputs": [
    {
     "name": "stderr",
     "output_type": "stream",
     "text": [
      "/Users/Liem/anaconda3/lib/python3.7/site-packages/ipykernel_launcher.py:1: SettingWithCopyWarning: \n",
      "A value is trying to be set on a copy of a slice from a DataFrame.\n",
      "Try using .loc[row_indexer,col_indexer] = value instead\n",
      "\n",
      "See the caveats in the documentation: http://pandas.pydata.org/pandas-docs/stable/indexing.html#indexing-view-versus-copy\n",
      "  \"\"\"Entry point for launching an IPython kernel.\n"
     ]
    }
   ],
   "source": [
    "file_condensed['2016'] = file_condensed['2016'].str.replace(\",\",\"\").astype(int)"
   ]
  },
  {
   "cell_type": "code",
   "execution_count": 10,
   "metadata": {},
   "outputs": [
    {
     "name": "stderr",
     "output_type": "stream",
     "text": [
      "/Users/Liem/anaconda3/lib/python3.7/site-packages/ipykernel_launcher.py:1: SettingWithCopyWarning: \n",
      "A value is trying to be set on a copy of a slice from a DataFrame.\n",
      "Try using .loc[row_indexer,col_indexer] = value instead\n",
      "\n",
      "See the caveats in the documentation: http://pandas.pydata.org/pandas-docs/stable/indexing.html#indexing-view-versus-copy\n",
      "  \"\"\"Entry point for launching an IPython kernel.\n"
     ]
    }
   ],
   "source": [
    "file_condensed['2017'] = file_condensed['2017'].str.replace(\",\",\"\").astype(int)"
   ]
  },
  {
   "cell_type": "code",
   "execution_count": 12,
   "metadata": {},
   "outputs": [
    {
     "name": "stdout",
     "output_type": "stream",
     "text": [
      "<class 'pandas.core.frame.DataFrame'>\n",
      "RangeIndex: 8 entries, 8 to 15\n",
      "Data columns (total 8 columns):\n",
      "Variables    8 non-null object\n",
      "2011         8 non-null int64\n",
      "2012         8 non-null int64\n",
      "2013         8 non-null int64\n",
      "2014         8 non-null int64\n",
      "2015         8 non-null int64\n",
      "2016         8 non-null int64\n",
      "2017         8 non-null int64\n",
      "dtypes: int64(7), object(1)\n",
      "memory usage: 596.0+ bytes\n"
     ]
    }
   ],
   "source": [
    "file_condensed.info()"
   ]
  },
  {
   "cell_type": "code",
   "execution_count": 13,
   "metadata": {},
   "outputs": [
    {
     "data": {
      "text/html": [
       "<div>\n",
       "<style scoped>\n",
       "    .dataframe tbody tr th:only-of-type {\n",
       "        vertical-align: middle;\n",
       "    }\n",
       "\n",
       "    .dataframe tbody tr th {\n",
       "        vertical-align: top;\n",
       "    }\n",
       "\n",
       "    .dataframe thead th {\n",
       "        text-align: right;\n",
       "    }\n",
       "</style>\n",
       "<table border=\"1\" class=\"dataframe\">\n",
       "  <thead>\n",
       "    <tr style=\"text-align: right;\">\n",
       "      <th></th>\n",
       "      <th>Variables</th>\n",
       "      <th>2011</th>\n",
       "      <th>2012</th>\n",
       "      <th>2013</th>\n",
       "      <th>2014</th>\n",
       "      <th>2015</th>\n",
       "      <th>2016</th>\n",
       "      <th>2017</th>\n",
       "    </tr>\n",
       "  </thead>\n",
       "  <tbody>\n",
       "    <tr>\n",
       "      <th>8</th>\n",
       "      <td>Highest Qualification Attained: Below Primary</td>\n",
       "      <td>5695</td>\n",
       "      <td>5531</td>\n",
       "      <td>8863</td>\n",
       "      <td>12074</td>\n",
       "      <td>16136</td>\n",
       "      <td>16454</td>\n",
       "      <td>16993</td>\n",
       "    </tr>\n",
       "    <tr>\n",
       "      <th>9</th>\n",
       "      <td>Highest Qualification Attained: Primary</td>\n",
       "      <td>28343</td>\n",
       "      <td>28516</td>\n",
       "      <td>26391</td>\n",
       "      <td>33538</td>\n",
       "      <td>25031</td>\n",
       "      <td>25732</td>\n",
       "      <td>24546</td>\n",
       "    </tr>\n",
       "    <tr>\n",
       "      <th>10</th>\n",
       "      <td>Highest Qualification Attained: Lower Secondary</td>\n",
       "      <td>27824</td>\n",
       "      <td>22120</td>\n",
       "      <td>26606</td>\n",
       "      <td>30313</td>\n",
       "      <td>27975</td>\n",
       "      <td>31491</td>\n",
       "      <td>34274</td>\n",
       "    </tr>\n",
       "    <tr>\n",
       "      <th>11</th>\n",
       "      <td>Highest Qualification Attained: Secondary</td>\n",
       "      <td>54012</td>\n",
       "      <td>55977</td>\n",
       "      <td>60134</td>\n",
       "      <td>64020</td>\n",
       "      <td>60786</td>\n",
       "      <td>64041</td>\n",
       "      <td>67141</td>\n",
       "    </tr>\n",
       "    <tr>\n",
       "      <th>12</th>\n",
       "      <td>Highest Qualification Attained: Post-Secondary</td>\n",
       "      <td>12663</td>\n",
       "      <td>17318</td>\n",
       "      <td>20601</td>\n",
       "      <td>21856</td>\n",
       "      <td>25276</td>\n",
       "      <td>27755</td>\n",
       "      <td>32080</td>\n",
       "    </tr>\n",
       "    <tr>\n",
       "      <th>13</th>\n",
       "      <td>Highest Qualification Attained: Professional A...</td>\n",
       "      <td>8624</td>\n",
       "      <td>9620</td>\n",
       "      <td>10744</td>\n",
       "      <td>14030</td>\n",
       "      <td>11839</td>\n",
       "      <td>14634</td>\n",
       "      <td>15057</td>\n",
       "    </tr>\n",
       "    <tr>\n",
       "      <th>14</th>\n",
       "      <td>Highest Qualification Attained: Polytechnic Di...</td>\n",
       "      <td>17224</td>\n",
       "      <td>19790</td>\n",
       "      <td>24144</td>\n",
       "      <td>26612</td>\n",
       "      <td>31610</td>\n",
       "      <td>32133</td>\n",
       "      <td>41764</td>\n",
       "    </tr>\n",
       "    <tr>\n",
       "      <th>15</th>\n",
       "      <td>Highest Qualification Attained: Degree And Above</td>\n",
       "      <td>23926</td>\n",
       "      <td>27144</td>\n",
       "      <td>34032</td>\n",
       "      <td>45011</td>\n",
       "      <td>48395</td>\n",
       "      <td>56295</td>\n",
       "      <td>57893</td>\n",
       "    </tr>\n",
       "  </tbody>\n",
       "</table>\n",
       "</div>"
      ],
      "text/plain": [
       "                                            Variables   2011   2012   2013  \\\n",
       "8       Highest Qualification Attained: Below Primary   5695   5531   8863   \n",
       "9             Highest Qualification Attained: Primary  28343  28516  26391   \n",
       "10    Highest Qualification Attained: Lower Secondary  27824  22120  26606   \n",
       "11          Highest Qualification Attained: Secondary  54012  55977  60134   \n",
       "12     Highest Qualification Attained: Post-Secondary  12663  17318  20601   \n",
       "13  Highest Qualification Attained: Professional A...   8624   9620  10744   \n",
       "14  Highest Qualification Attained: Polytechnic Di...  17224  19790  24144   \n",
       "15   Highest Qualification Attained: Degree And Above  23926  27144  34032   \n",
       "\n",
       "     2014   2015   2016   2017  \n",
       "8   12074  16136  16454  16993  \n",
       "9   33538  25031  25732  24546  \n",
       "10  30313  27975  31491  34274  \n",
       "11  64020  60786  64041  67141  \n",
       "12  21856  25276  27755  32080  \n",
       "13  14030  11839  14634  15057  \n",
       "14  26612  31610  32133  41764  \n",
       "15  45011  48395  56295  57893  "
      ]
     },
     "execution_count": 13,
     "metadata": {},
     "output_type": "execute_result"
    }
   ],
   "source": [
    "file_condensed"
   ]
  },
  {
   "cell_type": "code",
   "execution_count": 19,
   "metadata": {},
   "outputs": [
    {
     "data": {
      "text/html": [
       "<div>\n",
       "<style scoped>\n",
       "    .dataframe tbody tr th:only-of-type {\n",
       "        vertical-align: middle;\n",
       "    }\n",
       "\n",
       "    .dataframe tbody tr th {\n",
       "        vertical-align: top;\n",
       "    }\n",
       "\n",
       "    .dataframe thead th {\n",
       "        text-align: right;\n",
       "    }\n",
       "</style>\n",
       "<table border=\"1\" class=\"dataframe\">\n",
       "  <thead>\n",
       "    <tr style=\"text-align: right;\">\n",
       "      <th></th>\n",
       "      <th>Variables</th>\n",
       "      <th>Year</th>\n",
       "      <th>Number of People</th>\n",
       "    </tr>\n",
       "  </thead>\n",
       "  <tbody>\n",
       "    <tr>\n",
       "      <th>0</th>\n",
       "      <td>Highest Qualification Attained: Below Primary</td>\n",
       "      <td>2011</td>\n",
       "      <td>5695</td>\n",
       "    </tr>\n",
       "    <tr>\n",
       "      <th>1</th>\n",
       "      <td>Highest Qualification Attained: Primary</td>\n",
       "      <td>2011</td>\n",
       "      <td>28343</td>\n",
       "    </tr>\n",
       "    <tr>\n",
       "      <th>2</th>\n",
       "      <td>Highest Qualification Attained: Lower Secondary</td>\n",
       "      <td>2011</td>\n",
       "      <td>27824</td>\n",
       "    </tr>\n",
       "    <tr>\n",
       "      <th>3</th>\n",
       "      <td>Highest Qualification Attained: Secondary</td>\n",
       "      <td>2011</td>\n",
       "      <td>54012</td>\n",
       "    </tr>\n",
       "    <tr>\n",
       "      <th>4</th>\n",
       "      <td>Highest Qualification Attained: Post-Secondary</td>\n",
       "      <td>2011</td>\n",
       "      <td>12663</td>\n",
       "    </tr>\n",
       "  </tbody>\n",
       "</table>\n",
       "</div>"
      ],
      "text/plain": [
       "                                         Variables  Year  Number of People\n",
       "0    Highest Qualification Attained: Below Primary  2011              5695\n",
       "1          Highest Qualification Attained: Primary  2011             28343\n",
       "2  Highest Qualification Attained: Lower Secondary  2011             27824\n",
       "3        Highest Qualification Attained: Secondary  2011             54012\n",
       "4   Highest Qualification Attained: Post-Secondary  2011             12663"
      ]
     },
     "execution_count": 19,
     "metadata": {},
     "output_type": "execute_result"
    }
   ],
   "source": [
    "file_melt = pd.melt(file_condensed, \n",
    "                    id_vars = ['Variables'], \n",
    "                    value_vars = ['2011', '2012', '2013', '2014', '2015', '2016', '2017'], \n",
    "                    var_name = 'Year',\n",
    "                    value_name = 'Number of People')\n",
    "file_melt.head()"
   ]
  },
  {
   "cell_type": "code",
   "execution_count": 22,
   "metadata": {},
   "outputs": [
    {
     "data": {
      "text/html": [
       "<div>\n",
       "<style scoped>\n",
       "    .dataframe tbody tr th:only-of-type {\n",
       "        vertical-align: middle;\n",
       "    }\n",
       "\n",
       "    .dataframe tbody tr th {\n",
       "        vertical-align: top;\n",
       "    }\n",
       "\n",
       "    .dataframe thead th {\n",
       "        text-align: right;\n",
       "    }\n",
       "</style>\n",
       "<table border=\"1\" class=\"dataframe\">\n",
       "  <thead>\n",
       "    <tr style=\"text-align: right;\">\n",
       "      <th>Variables</th>\n",
       "      <th>Highest Qualification Attained: Below Primary</th>\n",
       "      <th>Highest Qualification Attained: Degree And Above</th>\n",
       "      <th>Highest Qualification Attained: Lower Secondary</th>\n",
       "      <th>Highest Qualification Attained: Polytechnic Diploma</th>\n",
       "      <th>Highest Qualification Attained: Post-Secondary</th>\n",
       "      <th>Highest Qualification Attained: Primary</th>\n",
       "      <th>Highest Qualification Attained: Professional And Wsq Diploma</th>\n",
       "      <th>Highest Qualification Attained: Secondary</th>\n",
       "    </tr>\n",
       "    <tr>\n",
       "      <th>Year</th>\n",
       "      <th></th>\n",
       "      <th></th>\n",
       "      <th></th>\n",
       "      <th></th>\n",
       "      <th></th>\n",
       "      <th></th>\n",
       "      <th></th>\n",
       "      <th></th>\n",
       "    </tr>\n",
       "  </thead>\n",
       "  <tbody>\n",
       "    <tr>\n",
       "      <th>2011</th>\n",
       "      <td>5695</td>\n",
       "      <td>23926</td>\n",
       "      <td>27824</td>\n",
       "      <td>17224</td>\n",
       "      <td>12663</td>\n",
       "      <td>28343</td>\n",
       "      <td>8624</td>\n",
       "      <td>54012</td>\n",
       "    </tr>\n",
       "    <tr>\n",
       "      <th>2012</th>\n",
       "      <td>5531</td>\n",
       "      <td>27144</td>\n",
       "      <td>22120</td>\n",
       "      <td>19790</td>\n",
       "      <td>17318</td>\n",
       "      <td>28516</td>\n",
       "      <td>9620</td>\n",
       "      <td>55977</td>\n",
       "    </tr>\n",
       "    <tr>\n",
       "      <th>2013</th>\n",
       "      <td>8863</td>\n",
       "      <td>34032</td>\n",
       "      <td>26606</td>\n",
       "      <td>24144</td>\n",
       "      <td>20601</td>\n",
       "      <td>26391</td>\n",
       "      <td>10744</td>\n",
       "      <td>60134</td>\n",
       "    </tr>\n",
       "    <tr>\n",
       "      <th>2014</th>\n",
       "      <td>12074</td>\n",
       "      <td>45011</td>\n",
       "      <td>30313</td>\n",
       "      <td>26612</td>\n",
       "      <td>21856</td>\n",
       "      <td>33538</td>\n",
       "      <td>14030</td>\n",
       "      <td>64020</td>\n",
       "    </tr>\n",
       "    <tr>\n",
       "      <th>2015</th>\n",
       "      <td>16136</td>\n",
       "      <td>48395</td>\n",
       "      <td>27975</td>\n",
       "      <td>31610</td>\n",
       "      <td>25276</td>\n",
       "      <td>25031</td>\n",
       "      <td>11839</td>\n",
       "      <td>60786</td>\n",
       "    </tr>\n",
       "  </tbody>\n",
       "</table>\n",
       "</div>"
      ],
      "text/plain": [
       "Variables  Highest Qualification Attained: Below Primary  \\\n",
       "Year                                                       \n",
       "2011                                                5695   \n",
       "2012                                                5531   \n",
       "2013                                                8863   \n",
       "2014                                               12074   \n",
       "2015                                               16136   \n",
       "\n",
       "Variables  Highest Qualification Attained: Degree And Above  \\\n",
       "Year                                                          \n",
       "2011                                                  23926   \n",
       "2012                                                  27144   \n",
       "2013                                                  34032   \n",
       "2014                                                  45011   \n",
       "2015                                                  48395   \n",
       "\n",
       "Variables  Highest Qualification Attained: Lower Secondary  \\\n",
       "Year                                                         \n",
       "2011                                                 27824   \n",
       "2012                                                 22120   \n",
       "2013                                                 26606   \n",
       "2014                                                 30313   \n",
       "2015                                                 27975   \n",
       "\n",
       "Variables  Highest Qualification Attained: Polytechnic Diploma  \\\n",
       "Year                                                             \n",
       "2011                                                   17224     \n",
       "2012                                                   19790     \n",
       "2013                                                   24144     \n",
       "2014                                                   26612     \n",
       "2015                                                   31610     \n",
       "\n",
       "Variables  Highest Qualification Attained: Post-Secondary  \\\n",
       "Year                                                        \n",
       "2011                                                12663   \n",
       "2012                                                17318   \n",
       "2013                                                20601   \n",
       "2014                                                21856   \n",
       "2015                                                25276   \n",
       "\n",
       "Variables  Highest Qualification Attained: Primary  \\\n",
       "Year                                                 \n",
       "2011                                         28343   \n",
       "2012                                         28516   \n",
       "2013                                         26391   \n",
       "2014                                         33538   \n",
       "2015                                         25031   \n",
       "\n",
       "Variables  Highest Qualification Attained: Professional And Wsq Diploma  \\\n",
       "Year                                                                      \n",
       "2011                                                    8624              \n",
       "2012                                                    9620              \n",
       "2013                                                   10744              \n",
       "2014                                                   14030              \n",
       "2015                                                   11839              \n",
       "\n",
       "Variables  Highest Qualification Attained: Secondary  \n",
       "Year                                                  \n",
       "2011                                           54012  \n",
       "2012                                           55977  \n",
       "2013                                           60134  \n",
       "2014                                           64020  \n",
       "2015                                           60786  "
      ]
     },
     "execution_count": 22,
     "metadata": {},
     "output_type": "execute_result"
    }
   ],
   "source": [
    "file_fixed = file_melt.pivot(index = 'Year' ,\n",
    "                             columns = 'Variables',  \n",
    "                             values = 'Number of People')\n",
    "file_fixed.head()"
   ]
  },
  {
   "cell_type": "code",
   "execution_count": 26,
   "metadata": {},
   "outputs": [
    {
     "data": {
      "text/html": [
       "<div>\n",
       "<style scoped>\n",
       "    .dataframe tbody tr th:only-of-type {\n",
       "        vertical-align: middle;\n",
       "    }\n",
       "\n",
       "    .dataframe tbody tr th {\n",
       "        vertical-align: top;\n",
       "    }\n",
       "\n",
       "    .dataframe thead th {\n",
       "        text-align: right;\n",
       "    }\n",
       "</style>\n",
       "<table border=\"1\" class=\"dataframe\">\n",
       "  <thead>\n",
       "    <tr style=\"text-align: right;\">\n",
       "      <th>Variables</th>\n",
       "      <th>Year</th>\n",
       "      <th>Highest Qualification Attained: Below Primary</th>\n",
       "      <th>Highest Qualification Attained: Degree And Above</th>\n",
       "      <th>Highest Qualification Attained: Lower Secondary</th>\n",
       "      <th>Highest Qualification Attained: Polytechnic Diploma</th>\n",
       "      <th>Highest Qualification Attained: Post-Secondary</th>\n",
       "      <th>Highest Qualification Attained: Primary</th>\n",
       "      <th>Highest Qualification Attained: Professional And Wsq Diploma</th>\n",
       "      <th>Highest Qualification Attained: Secondary</th>\n",
       "    </tr>\n",
       "  </thead>\n",
       "  <tbody>\n",
       "    <tr>\n",
       "      <th>0</th>\n",
       "      <td>2011</td>\n",
       "      <td>5695</td>\n",
       "      <td>23926</td>\n",
       "      <td>27824</td>\n",
       "      <td>17224</td>\n",
       "      <td>12663</td>\n",
       "      <td>28343</td>\n",
       "      <td>8624</td>\n",
       "      <td>54012</td>\n",
       "    </tr>\n",
       "    <tr>\n",
       "      <th>1</th>\n",
       "      <td>2012</td>\n",
       "      <td>5531</td>\n",
       "      <td>27144</td>\n",
       "      <td>22120</td>\n",
       "      <td>19790</td>\n",
       "      <td>17318</td>\n",
       "      <td>28516</td>\n",
       "      <td>9620</td>\n",
       "      <td>55977</td>\n",
       "    </tr>\n",
       "    <tr>\n",
       "      <th>2</th>\n",
       "      <td>2013</td>\n",
       "      <td>8863</td>\n",
       "      <td>34032</td>\n",
       "      <td>26606</td>\n",
       "      <td>24144</td>\n",
       "      <td>20601</td>\n",
       "      <td>26391</td>\n",
       "      <td>10744</td>\n",
       "      <td>60134</td>\n",
       "    </tr>\n",
       "    <tr>\n",
       "      <th>3</th>\n",
       "      <td>2014</td>\n",
       "      <td>12074</td>\n",
       "      <td>45011</td>\n",
       "      <td>30313</td>\n",
       "      <td>26612</td>\n",
       "      <td>21856</td>\n",
       "      <td>33538</td>\n",
       "      <td>14030</td>\n",
       "      <td>64020</td>\n",
       "    </tr>\n",
       "    <tr>\n",
       "      <th>4</th>\n",
       "      <td>2015</td>\n",
       "      <td>16136</td>\n",
       "      <td>48395</td>\n",
       "      <td>27975</td>\n",
       "      <td>31610</td>\n",
       "      <td>25276</td>\n",
       "      <td>25031</td>\n",
       "      <td>11839</td>\n",
       "      <td>60786</td>\n",
       "    </tr>\n",
       "    <tr>\n",
       "      <th>5</th>\n",
       "      <td>2016</td>\n",
       "      <td>16454</td>\n",
       "      <td>56295</td>\n",
       "      <td>31491</td>\n",
       "      <td>32133</td>\n",
       "      <td>27755</td>\n",
       "      <td>25732</td>\n",
       "      <td>14634</td>\n",
       "      <td>64041</td>\n",
       "    </tr>\n",
       "    <tr>\n",
       "      <th>6</th>\n",
       "      <td>2017</td>\n",
       "      <td>16993</td>\n",
       "      <td>57893</td>\n",
       "      <td>34274</td>\n",
       "      <td>41764</td>\n",
       "      <td>32080</td>\n",
       "      <td>24546</td>\n",
       "      <td>15057</td>\n",
       "      <td>67141</td>\n",
       "    </tr>\n",
       "  </tbody>\n",
       "</table>\n",
       "</div>"
      ],
      "text/plain": [
       "Variables  Year  Highest Qualification Attained: Below Primary  \\\n",
       "0          2011                                           5695   \n",
       "1          2012                                           5531   \n",
       "2          2013                                           8863   \n",
       "3          2014                                          12074   \n",
       "4          2015                                          16136   \n",
       "5          2016                                          16454   \n",
       "6          2017                                          16993   \n",
       "\n",
       "Variables  Highest Qualification Attained: Degree And Above  \\\n",
       "0                                                     23926   \n",
       "1                                                     27144   \n",
       "2                                                     34032   \n",
       "3                                                     45011   \n",
       "4                                                     48395   \n",
       "5                                                     56295   \n",
       "6                                                     57893   \n",
       "\n",
       "Variables  Highest Qualification Attained: Lower Secondary  \\\n",
       "0                                                    27824   \n",
       "1                                                    22120   \n",
       "2                                                    26606   \n",
       "3                                                    30313   \n",
       "4                                                    27975   \n",
       "5                                                    31491   \n",
       "6                                                    34274   \n",
       "\n",
       "Variables  Highest Qualification Attained: Polytechnic Diploma  \\\n",
       "0                                                      17224     \n",
       "1                                                      19790     \n",
       "2                                                      24144     \n",
       "3                                                      26612     \n",
       "4                                                      31610     \n",
       "5                                                      32133     \n",
       "6                                                      41764     \n",
       "\n",
       "Variables  Highest Qualification Attained: Post-Secondary  \\\n",
       "0                                                   12663   \n",
       "1                                                   17318   \n",
       "2                                                   20601   \n",
       "3                                                   21856   \n",
       "4                                                   25276   \n",
       "5                                                   27755   \n",
       "6                                                   32080   \n",
       "\n",
       "Variables  Highest Qualification Attained: Primary  \\\n",
       "0                                            28343   \n",
       "1                                            28516   \n",
       "2                                            26391   \n",
       "3                                            33538   \n",
       "4                                            25031   \n",
       "5                                            25732   \n",
       "6                                            24546   \n",
       "\n",
       "Variables  Highest Qualification Attained: Professional And Wsq Diploma  \\\n",
       "0                                                       8624              \n",
       "1                                                       9620              \n",
       "2                                                      10744              \n",
       "3                                                      14030              \n",
       "4                                                      11839              \n",
       "5                                                      14634              \n",
       "6                                                      15057              \n",
       "\n",
       "Variables  Highest Qualification Attained: Secondary  \n",
       "0                                              54012  \n",
       "1                                              55977  \n",
       "2                                              60134  \n",
       "3                                              64020  \n",
       "4                                              60786  \n",
       "5                                              64041  \n",
       "6                                              67141  "
      ]
     },
     "execution_count": 26,
     "metadata": {},
     "output_type": "execute_result"
    }
   ],
   "source": [
    "file_fixed.reset_index()\n"
   ]
  },
  {
   "cell_type": "code",
   "execution_count": 32,
   "metadata": {},
   "outputs": [
    {
     "data": {
      "text/plain": [
       "23926"
      ]
     },
     "execution_count": 32,
     "metadata": {},
     "output_type": "execute_result"
    }
   ],
   "source": [
    "file_fixed['Highest Qualification Attained: Degree And Above']['2011']"
   ]
  },
  {
   "cell_type": "code",
   "execution_count": 35,
   "metadata": {},
   "outputs": [
    {
     "data": {
      "image/png": "[encoded data removed]",
      "text/plain": [
       "<Figure size 432x288 with 1 Axes>"
      ]
     },
     "metadata": {
      "needs_background": "light"
     },
     "output_type": "display_data"
    }
   ],
   "source": [
    "import matplotlib.pyplot as plt\n",
    "\n",
    "year = ['2011', '2012', '2013', '2014', '2015', '2016', '2017']\n",
    "\n",
    "below_primary = file_fixed['Highest Qualification Attained: Below Primary']\n",
    "primary = file_fixed['Highest Qualification Attained: Primary']\n",
    "secondary = file_fixed ['Highest Qualification Attained: Secondary']\n",
    "post_secondary = file_fixed ['Highest Qualification Attained: Post-Secondary']\n",
    "polytechnic = file_fixed ['Highest Qualification Attained: Polytechnic Diploma']\n",
    "professional_wsq = file_fixed ['Highest Qualification Attained: Professional And Wsq Diploma']\n",
    "university = file_fixed ['Highest Qualification Attained: Degree And Above']\n",
    "\n",
    "plt.plot(year, below_primary, color = 'green')\n",
    "plt.plot (year, primary, color = 'blue')\n",
    "plt.plot (year, secondary, color = 'red')\n",
    "plt.plot (year, post_secondary, color = 'black')\n",
    "plt.plot (year, polytechnic, color = 'purple')\n",
    "plt.plot (year, professional_wsq, color = 'orange')\n",
    "plt.plot (year, university, color = 'yellow')\n",
    "\n",
    "\n",
    "plt.xlabel ('Year')\n",
    "plt.ylabel ('Number of People')\n",
    "plt.title ('Participants in WSQ')\n",
    "plt.show()"
   ]
  }
 ],
 "metadata": {
  "kernelspec": {
   "display_name": "Python 3",
   "language": "python",
   "name": "python3"
  },
  "language_info": {
   "codemirror_mode": {
    "name": "ipython",
    "version": 3
   },
   "file_extension": ".py",
   "mimetype": "text/x-python",
   "name": "python",
   "nbconvert_exporter": "python",
   "pygments_lexer": "ipython3",
   "version": "3.7.0"
  }
 },
 "nbformat": 4,
 "nbformat_minor": 2
}
